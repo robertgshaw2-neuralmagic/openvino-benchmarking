{
 "cells": [
  {
   "cell_type": "markdown",
   "id": "49c96c28",
   "metadata": {},
   "source": [
    "## Intel OpenVINO"
   ]
  },
  {
   "cell_type": "code",
   "execution_count": 2,
   "id": "79ed31d2",
   "metadata": {},
   "outputs": [],
   "source": [
    "model_id = \"textattack/roberta-base-SST-2\"\n",
    "seq_len = 256"
   ]
  },
  {
   "cell_type": "code",
   "execution_count": 3,
   "id": "a237cde0",
   "metadata": {
    "scrolled": false
   },
   "outputs": [
    {
     "name": "stdout",
     "output_type": "stream",
     "text": [
      "INFO:nncf:NNCF initialized successfully. Supported frameworks detected: torch, onnx, openvino\n"
     ]
    },
    {
     "name": "stderr",
     "output_type": "stream",
     "text": [
      "Some weights of the model checkpoint at textattack/roberta-base-SST-2 were not used when initializing RobertaForSequenceClassification: ['roberta.pooler.dense.bias', 'roberta.pooler.dense.weight']\n",
      "- This IS expected if you are initializing RobertaForSequenceClassification from the checkpoint of a model trained on another task or with another architecture (e.g. initializing a BertForSequenceClassification model from a BertForPreTraining model).\n",
      "- This IS NOT expected if you are initializing RobertaForSequenceClassification from the checkpoint of a model that you expect to be exactly identical (initializing a BertForSequenceClassification model from a BertForSequenceClassification model).\n"
     ]
    },
    {
     "data": {
      "application/vnd.jupyter.widget-view+json": {
       "model_id": "12960b176f1f47f5baa9f81fbafed7b1",
       "version_major": 2,
       "version_minor": 0
      },
      "text/plain": [
       "Downloading (…)okenizer_config.json:   0%|          | 0.00/25.0 [00:00<?, ?B/s]"
      ]
     },
     "metadata": {},
     "output_type": "display_data"
    },
    {
     "data": {
      "application/vnd.jupyter.widget-view+json": {
       "model_id": "069851b658fe4415bee26f95b709fdc9",
       "version_major": 2,
       "version_minor": 0
      },
      "text/plain": [
       "Downloading (…)olve/main/vocab.json:   0%|          | 0.00/899k [00:00<?, ?B/s]"
      ]
     },
     "metadata": {},
     "output_type": "display_data"
    },
    {
     "data": {
      "application/vnd.jupyter.widget-view+json": {
       "model_id": "8f4c03453fad4133994af91c1093eebc",
       "version_major": 2,
       "version_minor": 0
      },
      "text/plain": [
       "Downloading (…)olve/main/merges.txt:   0%|          | 0.00/456k [00:00<?, ?B/s]"
      ]
     },
     "metadata": {},
     "output_type": "display_data"
    },
    {
     "data": {
      "application/vnd.jupyter.widget-view+json": {
       "model_id": "8a1494e43cd640528c7d31821c5f1210",
       "version_major": 2,
       "version_minor": 0
      },
      "text/plain": [
       "Downloading (…)cial_tokens_map.json:   0%|          | 0.00/150 [00:00<?, ?B/s]"
      ]
     },
     "metadata": {},
     "output_type": "display_data"
    }
   ],
   "source": [
    "from functools import partial\n",
    "from transformers import AutoModelForSequenceClassification, AutoTokenizer\n",
    "from optimum.intel import OVConfig, OVQuantizer\n",
    "\n",
    "model = AutoModelForSequenceClassification.from_pretrained(model_id)\n",
    "tokenizer = AutoTokenizer.from_pretrained(model_id)\n",
    "\n",
    "def preprocess_function(examples, tokenizer):\n",
    "    return tokenizer(examples[\"sentence\"], padding=\"max_length\", max_length=128, truncation=True)"
   ]
  },
  {
   "cell_type": "code",
   "execution_count": 9,
   "id": "30393067",
   "metadata": {},
   "outputs": [],
   "source": [
    "save_dir = \"ptq_model\""
   ]
  },
  {
   "cell_type": "code",
   "execution_count": 10,
   "id": "f36c4821",
   "metadata": {},
   "outputs": [],
   "source": [
    "# Load the default quantization configuration detailing the quantization we wish to apply\n",
    "quantization_config = OVConfig()\n",
    "\n",
    "# Instantiate our OVQuantizer using the desired configuration\n",
    "quantizer = OVQuantizer.from_pretrained(model)"
   ]
  },
  {
   "cell_type": "code",
   "execution_count": 11,
   "id": "4f7d8da5",
   "metadata": {
    "scrolled": true
   },
   "outputs": [
    {
     "data": {
      "application/vnd.jupyter.widget-view+json": {
       "model_id": "26a6df52154c46fcb93c44bb63561c45",
       "version_major": 2,
       "version_minor": 0
      },
      "text/plain": [
       "Downloading builder script:   0%|          | 0.00/28.8k [00:00<?, ?B/s]"
      ]
     },
     "metadata": {},
     "output_type": "display_data"
    },
    {
     "data": {
      "application/vnd.jupyter.widget-view+json": {
       "model_id": "ef42650210dd451eb049c97e52bb8bbb",
       "version_major": 2,
       "version_minor": 0
      },
      "text/plain": [
       "Downloading metadata:   0%|          | 0.00/28.7k [00:00<?, ?B/s]"
      ]
     },
     "metadata": {},
     "output_type": "display_data"
    },
    {
     "data": {
      "application/vnd.jupyter.widget-view+json": {
       "model_id": "86780e83f05b45acac0dcc10f2d789f0",
       "version_major": 2,
       "version_minor": 0
      },
      "text/plain": [
       "Downloading readme:   0%|          | 0.00/27.9k [00:00<?, ?B/s]"
      ]
     },
     "metadata": {},
     "output_type": "display_data"
    },
    {
     "name": "stdout",
     "output_type": "stream",
     "text": [
      "Downloading and preparing dataset glue/sst2 to /home/robertgshaw/.cache/huggingface/datasets/glue/sst2/1.0.0/dacbe3125aa31d7f70367a07a8a9e72a5a0bfeb5fc42e75c9db75b96da6053ad...\n"
     ]
    },
    {
     "data": {
      "application/vnd.jupyter.widget-view+json": {
       "model_id": "7ff2ce58873c4a33964092b8958f18ec",
       "version_major": 2,
       "version_minor": 0
      },
      "text/plain": [
       "Downloading data:   0%|          | 0.00/7.44M [00:00<?, ?B/s]"
      ]
     },
     "metadata": {},
     "output_type": "display_data"
    },
    {
     "data": {
      "application/vnd.jupyter.widget-view+json": {
       "model_id": "",
       "version_major": 2,
       "version_minor": 0
      },
      "text/plain": [
       "Generating train split:   0%|          | 0/67349 [00:00<?, ? examples/s]"
      ]
     },
     "metadata": {},
     "output_type": "display_data"
    },
    {
     "data": {
      "application/vnd.jupyter.widget-view+json": {
       "model_id": "",
       "version_major": 2,
       "version_minor": 0
      },
      "text/plain": [
       "Generating validation split:   0%|          | 0/872 [00:00<?, ? examples/s]"
      ]
     },
     "metadata": {},
     "output_type": "display_data"
    },
    {
     "data": {
      "application/vnd.jupyter.widget-view+json": {
       "model_id": "",
       "version_major": 2,
       "version_minor": 0
      },
      "text/plain": [
       "Generating test split:   0%|          | 0/1821 [00:00<?, ? examples/s]"
      ]
     },
     "metadata": {},
     "output_type": "display_data"
    },
    {
     "name": "stdout",
     "output_type": "stream",
     "text": [
      "Dataset glue downloaded and prepared to /home/robertgshaw/.cache/huggingface/datasets/glue/sst2/1.0.0/dacbe3125aa31d7f70367a07a8a9e72a5a0bfeb5fc42e75c9db75b96da6053ad. Subsequent calls will reuse this data.\n"
     ]
    },
    {
     "data": {
      "application/vnd.jupyter.widget-view+json": {
       "model_id": "",
       "version_major": 2,
       "version_minor": 0
      },
      "text/plain": [
       "Map:   0%|          | 0/300 [00:00<?, ? examples/s]"
      ]
     },
     "metadata": {},
     "output_type": "display_data"
    },
    {
     "name": "stdout",
     "output_type": "stream",
     "text": [
      "INFO:nncf:Not adding activation input quantizer for operation: 12 RobertaForSequenceClassification/RobertaModel[roberta]/RobertaEmbeddings[embeddings]/NNCFEmbedding[token_type_embeddings]/embedding_0\n",
      "INFO:nncf:Not adding activation input quantizer for operation: 11 RobertaForSequenceClassification/RobertaModel[roberta]/RobertaEmbeddings[embeddings]/NNCFEmbedding[word_embeddings]/embedding_0\n",
      "INFO:nncf:Not adding activation input quantizer for operation: 3 RobertaForSequenceClassification/RobertaModel[roberta]/RobertaEmbeddings[embeddings]/ne_0\n",
      "INFO:nncf:Not adding activation input quantizer for operation: 4 RobertaForSequenceClassification/RobertaModel[roberta]/RobertaEmbeddings[embeddings]/int_0\n",
      "INFO:nncf:Not adding activation input quantizer for operation: 5 RobertaForSequenceClassification/RobertaModel[roberta]/RobertaEmbeddings[embeddings]/cumsum_0\n",
      "INFO:nncf:Not adding activation input quantizer for operation: 13 RobertaForSequenceClassification/RobertaModel[roberta]/RobertaEmbeddings[embeddings]/__add___2\n",
      "INFO:nncf:Not adding activation input quantizer for operation: 6 RobertaForSequenceClassification/RobertaModel[roberta]/RobertaEmbeddings[embeddings]/type_as_0\n",
      "INFO:nncf:Not adding activation input quantizer for operation: 7 RobertaForSequenceClassification/RobertaModel[roberta]/RobertaEmbeddings[embeddings]/__add___0\n",
      "INFO:nncf:Not adding activation input quantizer for operation: 8 RobertaForSequenceClassification/RobertaModel[roberta]/RobertaEmbeddings[embeddings]/__mul___0\n",
      "INFO:nncf:Not adding activation input quantizer for operation: 9 RobertaForSequenceClassification/RobertaModel[roberta]/RobertaEmbeddings[embeddings]/long_0\n",
      "INFO:nncf:Not adding activation input quantizer for operation: 10 RobertaForSequenceClassification/RobertaModel[roberta]/RobertaEmbeddings[embeddings]/__add___1\n",
      "INFO:nncf:Not adding activation input quantizer for operation: 14 RobertaForSequenceClassification/RobertaModel[roberta]/RobertaEmbeddings[embeddings]/NNCFEmbedding[position_embeddings]/embedding_0\n",
      "INFO:nncf:Not adding activation input quantizer for operation: 15 RobertaForSequenceClassification/RobertaModel[roberta]/RobertaEmbeddings[embeddings]/__iadd___0\n",
      "INFO:nncf:Not adding activation input quantizer for operation: 16 RobertaForSequenceClassification/RobertaModel[roberta]/RobertaEmbeddings[embeddings]/NNCFLayerNorm[LayerNorm]/layer_norm_0\n",
      "INFO:nncf:Not adding activation input quantizer for operation: 17 RobertaForSequenceClassification/RobertaModel[roberta]/RobertaEmbeddings[embeddings]/Dropout[dropout]/dropout_0\n",
      "INFO:nncf:Not adding activation input quantizer for operation: 30 RobertaForSequenceClassification/RobertaModel[roberta]/RobertaEncoder[encoder]/ModuleList[layer]/RobertaLayer[0]/RobertaAttention[attention]/RobertaSelfAttention[self]/__add___0\n",
      "INFO:nncf:Not adding activation input quantizer for operation: 33 RobertaForSequenceClassification/RobertaModel[roberta]/RobertaEncoder[encoder]/ModuleList[layer]/RobertaLayer[0]/RobertaAttention[attention]/RobertaSelfAttention[self]/matmul_1\n",
      "INFO:nncf:Not adding activation input quantizer for operation: 39 RobertaForSequenceClassification/RobertaModel[roberta]/RobertaEncoder[encoder]/ModuleList[layer]/RobertaLayer[0]/RobertaAttention[attention]/RobertaSelfOutput[output]/__add___0\n",
      "INFO:nncf:Not adding activation input quantizer for operation: 40 RobertaForSequenceClassification/RobertaModel[roberta]/RobertaEncoder[encoder]/ModuleList[layer]/RobertaLayer[0]/RobertaAttention[attention]/RobertaSelfOutput[output]/NNCFLayerNorm[LayerNorm]/layer_norm_0\n",
      "INFO:nncf:Not adding activation input quantizer for operation: 45 RobertaForSequenceClassification/RobertaModel[roberta]/RobertaEncoder[encoder]/ModuleList[layer]/RobertaLayer[0]/RobertaOutput[output]/__add___0\n",
      "INFO:nncf:Not adding activation input quantizer for operation: 46 RobertaForSequenceClassification/RobertaModel[roberta]/RobertaEncoder[encoder]/ModuleList[layer]/RobertaLayer[0]/RobertaOutput[output]/NNCFLayerNorm[LayerNorm]/layer_norm_0\n",
      "INFO:nncf:Not adding activation input quantizer for operation: 59 RobertaForSequenceClassification/RobertaModel[roberta]/RobertaEncoder[encoder]/ModuleList[layer]/RobertaLayer[1]/RobertaAttention[attention]/RobertaSelfAttention[self]/__add___0\n",
      "INFO:nncf:Not adding activation input quantizer for operation: 62 RobertaForSequenceClassification/RobertaModel[roberta]/RobertaEncoder[encoder]/ModuleList[layer]/RobertaLayer[1]/RobertaAttention[attention]/RobertaSelfAttention[self]/matmul_1\n",
      "INFO:nncf:Not adding activation input quantizer for operation: 68 RobertaForSequenceClassification/RobertaModel[roberta]/RobertaEncoder[encoder]/ModuleList[layer]/RobertaLayer[1]/RobertaAttention[attention]/RobertaSelfOutput[output]/__add___0\n",
      "INFO:nncf:Not adding activation input quantizer for operation: 69 RobertaForSequenceClassification/RobertaModel[roberta]/RobertaEncoder[encoder]/ModuleList[layer]/RobertaLayer[1]/RobertaAttention[attention]/RobertaSelfOutput[output]/NNCFLayerNorm[LayerNorm]/layer_norm_0\n",
      "INFO:nncf:Not adding activation input quantizer for operation: 74 RobertaForSequenceClassification/RobertaModel[roberta]/RobertaEncoder[encoder]/ModuleList[layer]/RobertaLayer[1]/RobertaOutput[output]/__add___0\n",
      "INFO:nncf:Not adding activation input quantizer for operation: 75 RobertaForSequenceClassification/RobertaModel[roberta]/RobertaEncoder[encoder]/ModuleList[layer]/RobertaLayer[1]/RobertaOutput[output]/NNCFLayerNorm[LayerNorm]/layer_norm_0\n",
      "INFO:nncf:Not adding activation input quantizer for operation: 88 RobertaForSequenceClassification/RobertaModel[roberta]/RobertaEncoder[encoder]/ModuleList[layer]/RobertaLayer[2]/RobertaAttention[attention]/RobertaSelfAttention[self]/__add___0\n",
      "INFO:nncf:Not adding activation input quantizer for operation: 91 RobertaForSequenceClassification/RobertaModel[roberta]/RobertaEncoder[encoder]/ModuleList[layer]/RobertaLayer[2]/RobertaAttention[attention]/RobertaSelfAttention[self]/matmul_1\n",
      "INFO:nncf:Not adding activation input quantizer for operation: 97 RobertaForSequenceClassification/RobertaModel[roberta]/RobertaEncoder[encoder]/ModuleList[layer]/RobertaLayer[2]/RobertaAttention[attention]/RobertaSelfOutput[output]/__add___0\n",
      "INFO:nncf:Not adding activation input quantizer for operation: 98 RobertaForSequenceClassification/RobertaModel[roberta]/RobertaEncoder[encoder]/ModuleList[layer]/RobertaLayer[2]/RobertaAttention[attention]/RobertaSelfOutput[output]/NNCFLayerNorm[LayerNorm]/layer_norm_0\n",
      "INFO:nncf:Not adding activation input quantizer for operation: 103 RobertaForSequenceClassification/RobertaModel[roberta]/RobertaEncoder[encoder]/ModuleList[layer]/RobertaLayer[2]/RobertaOutput[output]/__add___0\n",
      "INFO:nncf:Not adding activation input quantizer for operation: 104 RobertaForSequenceClassification/RobertaModel[roberta]/RobertaEncoder[encoder]/ModuleList[layer]/RobertaLayer[2]/RobertaOutput[output]/NNCFLayerNorm[LayerNorm]/layer_norm_0\n",
      "INFO:nncf:Not adding activation input quantizer for operation: 117 RobertaForSequenceClassification/RobertaModel[roberta]/RobertaEncoder[encoder]/ModuleList[layer]/RobertaLayer[3]/RobertaAttention[attention]/RobertaSelfAttention[self]/__add___0\n",
      "INFO:nncf:Not adding activation input quantizer for operation: 120 RobertaForSequenceClassification/RobertaModel[roberta]/RobertaEncoder[encoder]/ModuleList[layer]/RobertaLayer[3]/RobertaAttention[attention]/RobertaSelfAttention[self]/matmul_1\n",
      "INFO:nncf:Not adding activation input quantizer for operation: 126 RobertaForSequenceClassification/RobertaModel[roberta]/RobertaEncoder[encoder]/ModuleList[layer]/RobertaLayer[3]/RobertaAttention[attention]/RobertaSelfOutput[output]/__add___0\n",
      "INFO:nncf:Not adding activation input quantizer for operation: 127 RobertaForSequenceClassification/RobertaModel[roberta]/RobertaEncoder[encoder]/ModuleList[layer]/RobertaLayer[3]/RobertaAttention[attention]/RobertaSelfOutput[output]/NNCFLayerNorm[LayerNorm]/layer_norm_0\n",
      "INFO:nncf:Not adding activation input quantizer for operation: 132 RobertaForSequenceClassification/RobertaModel[roberta]/RobertaEncoder[encoder]/ModuleList[layer]/RobertaLayer[3]/RobertaOutput[output]/__add___0\n",
      "INFO:nncf:Not adding activation input quantizer for operation: 133 RobertaForSequenceClassification/RobertaModel[roberta]/RobertaEncoder[encoder]/ModuleList[layer]/RobertaLayer[3]/RobertaOutput[output]/NNCFLayerNorm[LayerNorm]/layer_norm_0\n"
     ]
    },
    {
     "name": "stdout",
     "output_type": "stream",
     "text": [
      "INFO:nncf:Not adding activation input quantizer for operation: 146 RobertaForSequenceClassification/RobertaModel[roberta]/RobertaEncoder[encoder]/ModuleList[layer]/RobertaLayer[4]/RobertaAttention[attention]/RobertaSelfAttention[self]/__add___0\n",
      "INFO:nncf:Not adding activation input quantizer for operation: 149 RobertaForSequenceClassification/RobertaModel[roberta]/RobertaEncoder[encoder]/ModuleList[layer]/RobertaLayer[4]/RobertaAttention[attention]/RobertaSelfAttention[self]/matmul_1\n",
      "INFO:nncf:Not adding activation input quantizer for operation: 155 RobertaForSequenceClassification/RobertaModel[roberta]/RobertaEncoder[encoder]/ModuleList[layer]/RobertaLayer[4]/RobertaAttention[attention]/RobertaSelfOutput[output]/__add___0\n",
      "INFO:nncf:Not adding activation input quantizer for operation: 156 RobertaForSequenceClassification/RobertaModel[roberta]/RobertaEncoder[encoder]/ModuleList[layer]/RobertaLayer[4]/RobertaAttention[attention]/RobertaSelfOutput[output]/NNCFLayerNorm[LayerNorm]/layer_norm_0\n",
      "INFO:nncf:Not adding activation input quantizer for operation: 161 RobertaForSequenceClassification/RobertaModel[roberta]/RobertaEncoder[encoder]/ModuleList[layer]/RobertaLayer[4]/RobertaOutput[output]/__add___0\n",
      "INFO:nncf:Not adding activation input quantizer for operation: 162 RobertaForSequenceClassification/RobertaModel[roberta]/RobertaEncoder[encoder]/ModuleList[layer]/RobertaLayer[4]/RobertaOutput[output]/NNCFLayerNorm[LayerNorm]/layer_norm_0\n",
      "INFO:nncf:Not adding activation input quantizer for operation: 175 RobertaForSequenceClassification/RobertaModel[roberta]/RobertaEncoder[encoder]/ModuleList[layer]/RobertaLayer[5]/RobertaAttention[attention]/RobertaSelfAttention[self]/__add___0\n",
      "INFO:nncf:Not adding activation input quantizer for operation: 178 RobertaForSequenceClassification/RobertaModel[roberta]/RobertaEncoder[encoder]/ModuleList[layer]/RobertaLayer[5]/RobertaAttention[attention]/RobertaSelfAttention[self]/matmul_1\n",
      "INFO:nncf:Not adding activation input quantizer for operation: 184 RobertaForSequenceClassification/RobertaModel[roberta]/RobertaEncoder[encoder]/ModuleList[layer]/RobertaLayer[5]/RobertaAttention[attention]/RobertaSelfOutput[output]/__add___0\n",
      "INFO:nncf:Not adding activation input quantizer for operation: 185 RobertaForSequenceClassification/RobertaModel[roberta]/RobertaEncoder[encoder]/ModuleList[layer]/RobertaLayer[5]/RobertaAttention[attention]/RobertaSelfOutput[output]/NNCFLayerNorm[LayerNorm]/layer_norm_0\n",
      "INFO:nncf:Not adding activation input quantizer for operation: 190 RobertaForSequenceClassification/RobertaModel[roberta]/RobertaEncoder[encoder]/ModuleList[layer]/RobertaLayer[5]/RobertaOutput[output]/__add___0\n",
      "INFO:nncf:Not adding activation input quantizer for operation: 191 RobertaForSequenceClassification/RobertaModel[roberta]/RobertaEncoder[encoder]/ModuleList[layer]/RobertaLayer[5]/RobertaOutput[output]/NNCFLayerNorm[LayerNorm]/layer_norm_0\n",
      "INFO:nncf:Not adding activation input quantizer for operation: 204 RobertaForSequenceClassification/RobertaModel[roberta]/RobertaEncoder[encoder]/ModuleList[layer]/RobertaLayer[6]/RobertaAttention[attention]/RobertaSelfAttention[self]/__add___0\n",
      "INFO:nncf:Not adding activation input quantizer for operation: 207 RobertaForSequenceClassification/RobertaModel[roberta]/RobertaEncoder[encoder]/ModuleList[layer]/RobertaLayer[6]/RobertaAttention[attention]/RobertaSelfAttention[self]/matmul_1\n",
      "INFO:nncf:Not adding activation input quantizer for operation: 213 RobertaForSequenceClassification/RobertaModel[roberta]/RobertaEncoder[encoder]/ModuleList[layer]/RobertaLayer[6]/RobertaAttention[attention]/RobertaSelfOutput[output]/__add___0\n",
      "INFO:nncf:Not adding activation input quantizer for operation: 214 RobertaForSequenceClassification/RobertaModel[roberta]/RobertaEncoder[encoder]/ModuleList[layer]/RobertaLayer[6]/RobertaAttention[attention]/RobertaSelfOutput[output]/NNCFLayerNorm[LayerNorm]/layer_norm_0\n",
      "INFO:nncf:Not adding activation input quantizer for operation: 219 RobertaForSequenceClassification/RobertaModel[roberta]/RobertaEncoder[encoder]/ModuleList[layer]/RobertaLayer[6]/RobertaOutput[output]/__add___0\n",
      "INFO:nncf:Not adding activation input quantizer for operation: 220 RobertaForSequenceClassification/RobertaModel[roberta]/RobertaEncoder[encoder]/ModuleList[layer]/RobertaLayer[6]/RobertaOutput[output]/NNCFLayerNorm[LayerNorm]/layer_norm_0\n",
      "INFO:nncf:Not adding activation input quantizer for operation: 233 RobertaForSequenceClassification/RobertaModel[roberta]/RobertaEncoder[encoder]/ModuleList[layer]/RobertaLayer[7]/RobertaAttention[attention]/RobertaSelfAttention[self]/__add___0\n",
      "INFO:nncf:Not adding activation input quantizer for operation: 236 RobertaForSequenceClassification/RobertaModel[roberta]/RobertaEncoder[encoder]/ModuleList[layer]/RobertaLayer[7]/RobertaAttention[attention]/RobertaSelfAttention[self]/matmul_1\n",
      "INFO:nncf:Not adding activation input quantizer for operation: 242 RobertaForSequenceClassification/RobertaModel[roberta]/RobertaEncoder[encoder]/ModuleList[layer]/RobertaLayer[7]/RobertaAttention[attention]/RobertaSelfOutput[output]/__add___0\n",
      "INFO:nncf:Not adding activation input quantizer for operation: 243 RobertaForSequenceClassification/RobertaModel[roberta]/RobertaEncoder[encoder]/ModuleList[layer]/RobertaLayer[7]/RobertaAttention[attention]/RobertaSelfOutput[output]/NNCFLayerNorm[LayerNorm]/layer_norm_0\n",
      "INFO:nncf:Not adding activation input quantizer for operation: 248 RobertaForSequenceClassification/RobertaModel[roberta]/RobertaEncoder[encoder]/ModuleList[layer]/RobertaLayer[7]/RobertaOutput[output]/__add___0\n",
      "INFO:nncf:Not adding activation input quantizer for operation: 249 RobertaForSequenceClassification/RobertaModel[roberta]/RobertaEncoder[encoder]/ModuleList[layer]/RobertaLayer[7]/RobertaOutput[output]/NNCFLayerNorm[LayerNorm]/layer_norm_0\n",
      "INFO:nncf:Not adding activation input quantizer for operation: 262 RobertaForSequenceClassification/RobertaModel[roberta]/RobertaEncoder[encoder]/ModuleList[layer]/RobertaLayer[8]/RobertaAttention[attention]/RobertaSelfAttention[self]/__add___0\n",
      "INFO:nncf:Not adding activation input quantizer for operation: 265 RobertaForSequenceClassification/RobertaModel[roberta]/RobertaEncoder[encoder]/ModuleList[layer]/RobertaLayer[8]/RobertaAttention[attention]/RobertaSelfAttention[self]/matmul_1\n",
      "INFO:nncf:Not adding activation input quantizer for operation: 271 RobertaForSequenceClassification/RobertaModel[roberta]/RobertaEncoder[encoder]/ModuleList[layer]/RobertaLayer[8]/RobertaAttention[attention]/RobertaSelfOutput[output]/__add___0\n",
      "INFO:nncf:Not adding activation input quantizer for operation: 272 RobertaForSequenceClassification/RobertaModel[roberta]/RobertaEncoder[encoder]/ModuleList[layer]/RobertaLayer[8]/RobertaAttention[attention]/RobertaSelfOutput[output]/NNCFLayerNorm[LayerNorm]/layer_norm_0\n",
      "INFO:nncf:Not adding activation input quantizer for operation: 277 RobertaForSequenceClassification/RobertaModel[roberta]/RobertaEncoder[encoder]/ModuleList[layer]/RobertaLayer[8]/RobertaOutput[output]/__add___0\n",
      "INFO:nncf:Not adding activation input quantizer for operation: 278 RobertaForSequenceClassification/RobertaModel[roberta]/RobertaEncoder[encoder]/ModuleList[layer]/RobertaLayer[8]/RobertaOutput[output]/NNCFLayerNorm[LayerNorm]/layer_norm_0\n",
      "INFO:nncf:Not adding activation input quantizer for operation: 291 RobertaForSequenceClassification/RobertaModel[roberta]/RobertaEncoder[encoder]/ModuleList[layer]/RobertaLayer[9]/RobertaAttention[attention]/RobertaSelfAttention[self]/__add___0\n",
      "INFO:nncf:Not adding activation input quantizer for operation: 294 RobertaForSequenceClassification/RobertaModel[roberta]/RobertaEncoder[encoder]/ModuleList[layer]/RobertaLayer[9]/RobertaAttention[attention]/RobertaSelfAttention[self]/matmul_1\n",
      "INFO:nncf:Not adding activation input quantizer for operation: 300 RobertaForSequenceClassification/RobertaModel[roberta]/RobertaEncoder[encoder]/ModuleList[layer]/RobertaLayer[9]/RobertaAttention[attention]/RobertaSelfOutput[output]/__add___0\n",
      "INFO:nncf:Not adding activation input quantizer for operation: 301 RobertaForSequenceClassification/RobertaModel[roberta]/RobertaEncoder[encoder]/ModuleList[layer]/RobertaLayer[9]/RobertaAttention[attention]/RobertaSelfOutput[output]/NNCFLayerNorm[LayerNorm]/layer_norm_0\n"
     ]
    },
    {
     "name": "stdout",
     "output_type": "stream",
     "text": [
      "INFO:nncf:Not adding activation input quantizer for operation: 306 RobertaForSequenceClassification/RobertaModel[roberta]/RobertaEncoder[encoder]/ModuleList[layer]/RobertaLayer[9]/RobertaOutput[output]/__add___0\n",
      "INFO:nncf:Not adding activation input quantizer for operation: 307 RobertaForSequenceClassification/RobertaModel[roberta]/RobertaEncoder[encoder]/ModuleList[layer]/RobertaLayer[9]/RobertaOutput[output]/NNCFLayerNorm[LayerNorm]/layer_norm_0\n",
      "INFO:nncf:Not adding activation input quantizer for operation: 320 RobertaForSequenceClassification/RobertaModel[roberta]/RobertaEncoder[encoder]/ModuleList[layer]/RobertaLayer[10]/RobertaAttention[attention]/RobertaSelfAttention[self]/__add___0\n",
      "INFO:nncf:Not adding activation input quantizer for operation: 323 RobertaForSequenceClassification/RobertaModel[roberta]/RobertaEncoder[encoder]/ModuleList[layer]/RobertaLayer[10]/RobertaAttention[attention]/RobertaSelfAttention[self]/matmul_1\n",
      "INFO:nncf:Not adding activation input quantizer for operation: 329 RobertaForSequenceClassification/RobertaModel[roberta]/RobertaEncoder[encoder]/ModuleList[layer]/RobertaLayer[10]/RobertaAttention[attention]/RobertaSelfOutput[output]/__add___0\n",
      "INFO:nncf:Not adding activation input quantizer for operation: 330 RobertaForSequenceClassification/RobertaModel[roberta]/RobertaEncoder[encoder]/ModuleList[layer]/RobertaLayer[10]/RobertaAttention[attention]/RobertaSelfOutput[output]/NNCFLayerNorm[LayerNorm]/layer_norm_0\n",
      "INFO:nncf:Not adding activation input quantizer for operation: 335 RobertaForSequenceClassification/RobertaModel[roberta]/RobertaEncoder[encoder]/ModuleList[layer]/RobertaLayer[10]/RobertaOutput[output]/__add___0\n",
      "INFO:nncf:Not adding activation input quantizer for operation: 336 RobertaForSequenceClassification/RobertaModel[roberta]/RobertaEncoder[encoder]/ModuleList[layer]/RobertaLayer[10]/RobertaOutput[output]/NNCFLayerNorm[LayerNorm]/layer_norm_0\n",
      "INFO:nncf:Not adding activation input quantizer for operation: 349 RobertaForSequenceClassification/RobertaModel[roberta]/RobertaEncoder[encoder]/ModuleList[layer]/RobertaLayer[11]/RobertaAttention[attention]/RobertaSelfAttention[self]/__add___0\n",
      "INFO:nncf:Not adding activation input quantizer for operation: 352 RobertaForSequenceClassification/RobertaModel[roberta]/RobertaEncoder[encoder]/ModuleList[layer]/RobertaLayer[11]/RobertaAttention[attention]/RobertaSelfAttention[self]/matmul_1\n",
      "INFO:nncf:Not adding activation input quantizer for operation: 358 RobertaForSequenceClassification/RobertaModel[roberta]/RobertaEncoder[encoder]/ModuleList[layer]/RobertaLayer[11]/RobertaAttention[attention]/RobertaSelfOutput[output]/__add___0\n",
      "INFO:nncf:Not adding activation input quantizer for operation: 359 RobertaForSequenceClassification/RobertaModel[roberta]/RobertaEncoder[encoder]/ModuleList[layer]/RobertaLayer[11]/RobertaAttention[attention]/RobertaSelfOutput[output]/NNCFLayerNorm[LayerNorm]/layer_norm_0\n",
      "INFO:nncf:Not adding activation input quantizer for operation: 364 RobertaForSequenceClassification/RobertaModel[roberta]/RobertaEncoder[encoder]/ModuleList[layer]/RobertaLayer[11]/RobertaOutput[output]/__add___0\n",
      "INFO:nncf:Not adding activation input quantizer for operation: 365 RobertaForSequenceClassification/RobertaModel[roberta]/RobertaEncoder[encoder]/ModuleList[layer]/RobertaLayer[11]/RobertaOutput[output]/NNCFLayerNorm[LayerNorm]/layer_norm_0\n",
      "INFO:nncf:Collecting tensor statistics |█               | 4 / 38\n",
      "INFO:nncf:Collecting tensor statistics |███             | 8 / 38\n",
      "INFO:nncf:Collecting tensor statistics |█████           | 12 / 38\n",
      "INFO:nncf:Collecting tensor statistics |██████          | 16 / 38\n",
      "INFO:nncf:Collecting tensor statistics |████████        | 20 / 38\n",
      "INFO:nncf:Collecting tensor statistics |██████████      | 24 / 38\n",
      "INFO:nncf:Collecting tensor statistics |███████████     | 28 / 38\n",
      "INFO:nncf:Collecting tensor statistics |█████████████   | 32 / 38\n",
      "INFO:nncf:Collecting tensor statistics |███████████████ | 36 / 38\n",
      "INFO:nncf:Collecting tensor statistics |████████████████| 38 / 38\n",
      "INFO:nncf:Compiling and loading torch extension: quantized_functions_cpu...\n",
      "huggingface/tokenizers: The current process just got forked, after parallelism has already been used. Disabling parallelism to avoid deadlocks...\n",
      "To disable this warning, you can either:\n",
      "\t- Avoid using `tokenizers` before the fork if possible\n",
      "\t- Explicitly set the environment variable TOKENIZERS_PARALLELISM=(true | false)\n",
      "huggingface/tokenizers: The current process just got forked, after parallelism has already been used. Disabling parallelism to avoid deadlocks...\n",
      "To disable this warning, you can either:\n",
      "\t- Avoid using `tokenizers` before the fork if possible\n",
      "\t- Explicitly set the environment variable TOKENIZERS_PARALLELISM=(true | false)\n",
      "huggingface/tokenizers: The current process just got forked, after parallelism has already been used. Disabling parallelism to avoid deadlocks...\n",
      "To disable this warning, you can either:\n",
      "\t- Avoid using `tokenizers` before the fork if possible\n",
      "\t- Explicitly set the environment variable TOKENIZERS_PARALLELISM=(true | false)\n",
      "huggingface/tokenizers: The current process just got forked, after parallelism has already been used. Disabling parallelism to avoid deadlocks...\n",
      "To disable this warning, you can either:\n",
      "\t- Avoid using `tokenizers` before the fork if possible\n",
      "\t- Explicitly set the environment variable TOKENIZERS_PARALLELISM=(true | false)\n",
      "INFO:nncf:Finished loading torch extension: quantized_functions_cpu\n",
      "WARNING:nncf:You are setting `forward` on an NNCF-processed model object.\n",
      "NNCF relies on custom-wrapping the `forward` call in order to function properly.\n",
      "Arbitrary adjustments to the forward function on an NNCFNetwork object have undefined behaviour.\n",
      "If you need to replace the underlying forward function of the original model so that NNCF should be using that instead of the original forward function that NNCF saved during the compressed model creation, you can do this by calling:\n",
      "model.nncf.set_original_unbound_forward(fn)\n",
      "if `fn` has an unbound 0-th `self` argument, or\n",
      "with model.nncf.temporary_bound_original_forward(fn): ...\n",
      "if `fn` already had 0-th `self` argument bound or never had it in the first place.\n"
     ]
    },
    {
     "name": "stderr",
     "output_type": "stream",
     "text": [
      "/home/robertgshaw/optimum/env/lib/python3.9/site-packages/nncf/torch/nncf_network.py:938: FutureWarning: Old style of accessing NNCF-specific attributes and methods on NNCFNetwork objects is deprecated. Access the NNCF-specific attrs through the NNCFInterface, which is set up as an `nncf` attribute on the compressed model object.\n",
      "For instance, instead of `compressed_model.get_graph()` you should now write `compressed_model.nncf.get_graph()`.\n",
      "The old style will be removed after NNCF v2.5.0\n",
      "  warning_deprecated(\n",
      "/home/robertgshaw/optimum/env/lib/python3.9/site-packages/nncf/torch/quantization/layers.py:338: TracerWarning: Converting a tensor to a Python number might cause the trace to be incorrect. We can't record the data flow of Python values, so this value will be treated as a constant in the future. This means that the trace might not generalize to other inputs!\n",
      "  return self._level_low.item()\n",
      "/home/robertgshaw/optimum/env/lib/python3.9/site-packages/nncf/torch/quantization/layers.py:346: TracerWarning: Converting a tensor to a Python number might cause the trace to be incorrect. We can't record the data flow of Python values, so this value will be treated as a constant in the future. This means that the trace might not generalize to other inputs!\n",
      "  return self._level_high.item()\n"
     ]
    },
    {
     "name": "stdout",
     "output_type": "stream",
     "text": [
      "============= Diagnostic Run torch.onnx.export version 2.0.1+cu117 =============\n",
      "verbose: False, log level: Level.ERROR\n",
      "======================= 0 NONE 0 NOTE 0 WARNING 0 ERROR ========================\n",
      "\n",
      "WARNING:nncf:You are setting `forward` on an NNCF-processed model object.\n",
      "NNCF relies on custom-wrapping the `forward` call in order to function properly.\n",
      "Arbitrary adjustments to the forward function on an NNCFNetwork object have undefined behaviour.\n",
      "If you need to replace the underlying forward function of the original model so that NNCF should be using that instead of the original forward function that NNCF saved during the compressed model creation, you can do this by calling:\n",
      "model.nncf.set_original_unbound_forward(fn)\n",
      "if `fn` has an unbound 0-th `self` argument, or\n",
      "with model.nncf.temporary_bound_original_forward(fn): ...\n",
      "if `fn` already had 0-th `self` argument bound or never had it in the first place.\n"
     ]
    },
    {
     "name": "stderr",
     "output_type": "stream",
     "text": [
      "Configuration saved in ptq_model/openvino_config.json\n"
     ]
    },
    {
     "data": {
      "text/plain": [
       "('ptq_model/tokenizer_config.json',\n",
       " 'ptq_model/special_tokens_map.json',\n",
       " 'ptq_model/vocab.json',\n",
       " 'ptq_model/merges.txt',\n",
       " 'ptq_model/added_tokens.json',\n",
       " 'ptq_model/tokenizer.json')"
      ]
     },
     "execution_count": 11,
     "metadata": {},
     "output_type": "execute_result"
    }
   ],
   "source": [
    "# Create the calibration dataset used to perform static quantization\n",
    "calibration_dataset = quantizer.get_calibration_dataset(\n",
    "    \"glue\",\n",
    "    dataset_config_name=\"sst2\",\n",
    "    preprocess_function=partial(preprocess_function, tokenizer=tokenizer),\n",
    "    num_samples=300,\n",
    "    dataset_split=\"train\",\n",
    ")\n",
    "# Apply static quantization and export the resulting quantized model to OpenVINO IR format\n",
    "quantizer.quantize(\n",
    "    quantization_config=quantization_config,\n",
    "    calibration_dataset=calibration_dataset,\n",
    "    save_directory=save_dir,\n",
    ")\n",
    "# Save the tokenizer\n",
    "tokenizer.save_pretrained(save_dir)"
   ]
  },
  {
   "cell_type": "markdown",
   "id": "e7c1f830",
   "metadata": {},
   "source": [
    "## Run OpenVINO"
   ]
  },
  {
   "cell_type": "code",
   "execution_count": 22,
   "id": "42510e6e",
   "metadata": {},
   "outputs": [
    {
     "name": "stderr",
     "output_type": "stream",
     "text": [
      "Compiling the model...\n",
      "Framework not specified. Using pt to export to ONNX.\n",
      "Some weights of the model checkpoint at textattack/roberta-base-SST-2 were not used when initializing RobertaForSequenceClassification: ['roberta.pooler.dense.bias', 'roberta.pooler.dense.weight']\n",
      "- This IS expected if you are initializing RobertaForSequenceClassification from the checkpoint of a model trained on another task or with another architecture (e.g. initializing a BertForSequenceClassification model from a BertForPreTraining model).\n",
      "- This IS NOT expected if you are initializing RobertaForSequenceClassification from the checkpoint of a model that you expect to be exactly identical (initializing a BertForSequenceClassification model from a BertForSequenceClassification model).\n",
      "Using framework PyTorch: 2.0.1+cu117\n",
      "Overriding 1 configuration item(s)\n",
      "\t- use_cache -> False\n"
     ]
    },
    {
     "name": "stdout",
     "output_type": "stream",
     "text": [
      "============= Diagnostic Run torch.onnx.export version 2.0.1+cu117 =============\n",
      "verbose: False, log level: Level.ERROR\n",
      "======================= 0 NONE 0 NOTE 0 WARNING 0 ERROR ========================\n",
      "\n"
     ]
    },
    {
     "name": "stderr",
     "output_type": "stream",
     "text": [
      "Compiling the model...\n"
     ]
    }
   ],
   "source": [
    "from optimum.intel import OVModelForSequenceClassification\n",
    "\n",
    "ov_model_int8 = OVModelForSequenceClassification.from_pretrained(save_dir, export=False)\n",
    "ov_model_fp32 = OVModelForSequenceClassification.from_pretrained(model_id, export=True)\n",
    "\n",
    "tokenizer = AutoTokenizer.from_pretrained(save_dir)"
   ]
  },
  {
   "cell_type": "code",
   "execution_count": 20,
   "id": "c6013e8a",
   "metadata": {},
   "outputs": [],
   "source": [
    "sentence = \"He is a dreadful magician\"\n",
    "inputs = tokenizer(sentence, max_length=256, padding=\"max_length\", truncation=True, return_tensors=\"np\")"
   ]
  },
  {
   "cell_type": "code",
   "execution_count": 24,
   "id": "b6db9ab8",
   "metadata": {},
   "outputs": [
    {
     "name": "stdout",
     "output_type": "stream",
     "text": [
      "items/sec: 19.90129716437686\n"
     ]
    }
   ],
   "source": [
    "import time\n",
    "iterations = 100\n",
    "\n",
    "start = time.perf_counter()\n",
    "for _ in range(iterations):\n",
    "    ov_model_fp32(**inputs)\n",
    "end = time.perf_counter()\n",
    "\n",
    "print(f\"items/sec: {iterations / (end-start)}\")"
   ]
  },
  {
   "cell_type": "code",
   "execution_count": 55,
   "id": "beca3e68",
   "metadata": {},
   "outputs": [
    {
     "name": "stdout",
     "output_type": "stream",
     "text": [
      "huggingface/tokenizers: The current process just got forked, after parallelism has already been used. Disabling parallelism to avoid deadlocks...\n",
      "To disable this warning, you can either:\n",
      "\t- Avoid using `tokenizers` before the fork if possible\n",
      "\t- Explicitly set the environment variable TOKENIZERS_PARALLELISM=(true | false)\n",
      "Untitled.ipynb\tcompressed_graph.dot  env  original_graph.dot  ptq_model\r\n"
     ]
    }
   ],
   "source": [
    "!ls"
   ]
  },
  {
   "cell_type": "code",
   "execution_count": 26,
   "id": "e9b78eb1",
   "metadata": {},
   "outputs": [
    {
     "name": "stdout",
     "output_type": "stream",
     "text": [
      "items/sec for: 41.41784595429765\n"
     ]
    }
   ],
   "source": [
    "import time\n",
    "iterations = 100\n",
    "\n",
    "start = time.perf_counter()\n",
    "for _ in range(iterations):\n",
    "    ov_model_int8(**inputs)\n",
    "end = time.perf_counter()\n",
    "\n",
    "print(f\"items/sec for: {iterations / (end-start)}\")"
   ]
  },
  {
   "cell_type": "code",
   "execution_count": 56,
   "id": "7d591a44",
   "metadata": {},
   "outputs": [
    {
     "name": "stdout",
     "output_type": "stream",
     "text": [
      "{'input_ids': array([[    0,   894,    16,    10, 31715, 38034,     2,     1,     1,\n",
      "            1,     1,     1,     1,     1,     1,     1,     1,     1,\n",
      "            1,     1,     1,     1,     1,     1,     1,     1,     1,\n",
      "            1,     1,     1,     1,     1,     1,     1,     1,     1,\n",
      "            1,     1,     1,     1,     1,     1,     1,     1,     1,\n",
      "            1,     1,     1,     1,     1,     1,     1,     1,     1,\n",
      "            1,     1,     1,     1,     1,     1,     1,     1,     1,\n",
      "            1,     1,     1,     1,     1,     1,     1,     1,     1,\n",
      "            1,     1,     1,     1,     1,     1,     1,     1,     1,\n",
      "            1,     1,     1,     1,     1,     1,     1,     1,     1,\n",
      "            1,     1,     1,     1,     1,     1,     1,     1,     1,\n",
      "            1,     1,     1,     1,     1,     1,     1,     1,     1,\n",
      "            1,     1,     1,     1,     1,     1,     1,     1,     1,\n",
      "            1,     1,     1,     1,     1,     1,     1,     1,     1,\n",
      "            1,     1,     1,     1,     1,     1,     1,     1,     1,\n",
      "            1,     1,     1,     1,     1,     1,     1,     1,     1,\n",
      "            1,     1,     1,     1,     1,     1,     1,     1,     1,\n",
      "            1,     1,     1,     1,     1,     1,     1,     1,     1,\n",
      "            1,     1,     1,     1,     1,     1,     1,     1,     1,\n",
      "            1,     1,     1,     1,     1,     1,     1,     1,     1,\n",
      "            1,     1,     1,     1,     1,     1,     1,     1,     1,\n",
      "            1,     1,     1,     1,     1,     1,     1,     1,     1,\n",
      "            1,     1,     1,     1,     1,     1,     1,     1,     1,\n",
      "            1,     1,     1,     1,     1,     1,     1,     1,     1,\n",
      "            1,     1,     1,     1,     1,     1,     1,     1,     1,\n",
      "            1,     1,     1,     1,     1,     1,     1,     1,     1,\n",
      "            1,     1,     1,     1,     1,     1,     1,     1,     1,\n",
      "            1,     1,     1,     1,     1,     1,     1,     1,     1,\n",
      "            1,     1,     1,     1]]), 'attention_mask': array([[1, 1, 1, 1, 1, 1, 1, 0, 0, 0, 0, 0, 0, 0, 0, 0, 0, 0, 0, 0, 0, 0,\n",
      "        0, 0, 0, 0, 0, 0, 0, 0, 0, 0, 0, 0, 0, 0, 0, 0, 0, 0, 0, 0, 0, 0,\n",
      "        0, 0, 0, 0, 0, 0, 0, 0, 0, 0, 0, 0, 0, 0, 0, 0, 0, 0, 0, 0, 0, 0,\n",
      "        0, 0, 0, 0, 0, 0, 0, 0, 0, 0, 0, 0, 0, 0, 0, 0, 0, 0, 0, 0, 0, 0,\n",
      "        0, 0, 0, 0, 0, 0, 0, 0, 0, 0, 0, 0, 0, 0, 0, 0, 0, 0, 0, 0, 0, 0,\n",
      "        0, 0, 0, 0, 0, 0, 0, 0, 0, 0, 0, 0, 0, 0, 0, 0, 0, 0, 0, 0, 0, 0,\n",
      "        0, 0, 0, 0, 0, 0, 0, 0, 0, 0, 0, 0, 0, 0, 0, 0, 0, 0, 0, 0, 0, 0,\n",
      "        0, 0, 0, 0, 0, 0, 0, 0, 0, 0, 0, 0, 0, 0, 0, 0, 0, 0, 0, 0, 0, 0,\n",
      "        0, 0, 0, 0, 0, 0, 0, 0, 0, 0, 0, 0, 0, 0, 0, 0, 0, 0, 0, 0, 0, 0,\n",
      "        0, 0, 0, 0, 0, 0, 0, 0, 0, 0, 0, 0, 0, 0, 0, 0, 0, 0, 0, 0, 0, 0,\n",
      "        0, 0, 0, 0, 0, 0, 0, 0, 0, 0, 0, 0, 0, 0, 0, 0, 0, 0, 0, 0, 0, 0,\n",
      "        0, 0, 0, 0, 0, 0, 0, 0, 0, 0, 0, 0, 0, 0]])}\n"
     ]
    }
   ],
   "source": [
    "print(inputs)"
   ]
  },
  {
   "cell_type": "code",
   "execution_count": 59,
   "id": "727f4186",
   "metadata": {},
   "outputs": [
    {
     "name": "stdout",
     "output_type": "stream",
     "text": [
      "huggingface/tokenizers: The current process just got forked, after parallelism has already been used. Disabling parallelism to avoid deadlocks...\n",
      "To disable this warning, you can either:\n",
      "\t- Avoid using `tokenizers` before the fork if possible\n",
      "\t- Explicitly set the environment variable TOKENIZERS_PARALLELISM=(true | false)\n",
      "config.json  openvino_config.json  special_tokens_map.json  vocab.json\r\n",
      "merges.txt   openvino_model.bin    tokenizer.json\r\n",
      "model_cache  openvino_model.xml    tokenizer_config.json\r\n"
     ]
    }
   ],
   "source": [
    "!ls ptq_model"
   ]
  },
  {
   "cell_type": "code",
   "execution_count": 62,
   "id": "28d93fb2",
   "metadata": {
    "scrolled": false
   },
   "outputs": [
    {
     "name": "stdout",
     "output_type": "stream",
     "text": [
      "huggingface/tokenizers: The current process just got forked, after parallelism has already been used. Disabling parallelism to avoid deadlocks...\n",
      "To disable this warning, you can either:\n",
      "\t- Avoid using `tokenizers` before the fork if possible\n",
      "\t- Explicitly set the environment variable TOKENIZERS_PARALLELISM=(true | false)\n",
      "[Step 1/11] Parsing and validating input arguments\n",
      "[ INFO ] Parsing input parameters\n",
      "usage: benchmark_app [-h [HELP]] [-i PATHS_TO_INPUT [PATHS_TO_INPUT ...]] -m\n",
      "                     PATH_TO_MODEL [-d TARGET_DEVICE]\n",
      "                     [-hint {throughput,tput,cumulative_throughput,ctput,latency,none}]\n",
      "                     [-niter NUMBER_ITERATIONS] [-t TIME] [-b BATCH_SIZE]\n",
      "                     [-shape SHAPE] [-data_shape DATA_SHAPE] [-layout LAYOUT]\n",
      "                     [-extensions EXTENSIONS] [-c PATH_TO_CLDNN_CONFIG]\n",
      "                     [-cdir CACHE_DIR] [-lfile [LOAD_FROM_FILE]]\n",
      "                     [-api {sync,async}] [-nireq NUMBER_INFER_REQUESTS]\n",
      "                     [-nstreams NUMBER_STREAMS]\n",
      "                     [-inference_only [INFERENCE_ONLY]]\n",
      "                     [-infer_precision INFER_PRECISION]\n",
      "                     [-ip {bool,f16,f32,f64,i8,i16,i32,i64,u8,u16,u32,u64}]\n",
      "                     [-op {bool,f16,f32,f64,i8,i16,i32,i64,u8,u16,u32,u64}]\n",
      "                     [-iop INPUT_OUTPUT_PRECISION] [--mean_values [R,G,B]]\n",
      "                     [--scale_values [R,G,B]] [-nthreads NUMBER_THREADS]\n",
      "                     [-pin {YES,NO,NUMA,HYBRID_AWARE}]\n",
      "                     [-latency_percentile LATENCY_PERCENTILE]\n",
      "                     [-report_type {no_counters,average_counters,detailed_counters}]\n",
      "                     [-report_folder REPORT_FOLDER] [-json_stats [JSON_STATS]]\n",
      "                     [-pc [PERF_COUNTS]] [-pcsort {no_sort,sort,simple_sort}]\n",
      "                     [-pcseq [PCSEQ]] [-exec_graph_path EXEC_GRAPH_PATH]\n",
      "                     [-dump_config DUMP_CONFIG] [-load_config LOAD_CONFIG]\n",
      "\n",
      "Options:\n",
      "  -h [HELP], --help [HELP]\n",
      "                        Show this help message and exit.\n",
      "                        \n",
      "  -i PATHS_TO_INPUT [PATHS_TO_INPUT ...], --paths_to_input PATHS_TO_INPUT [PATHS_TO_INPUT ...]\n",
      "                        Optional. Path to a folder with images and/or binaries\n",
      "                        or to specific image or binary file.It is also allowed\n",
      "                        to map files to model inputs:\n",
      "                        input_1:file_1/dir1,file_2/dir2,input_4:file_4/dir4\n",
      "                        input_2:file_3/dir3 Currently supported data types:\n",
      "                        bin, npy. If OPENCV is enabled, this functionalityis\n",
      "                        extended with the following data types: bmp, dib,\n",
      "                        jpeg, jpg, jpe, jp2, png, pbm, pgm, ppm, sr, ras,\n",
      "                        tiff, tif.\n",
      "                        \n",
      "  -m PATH_TO_MODEL, --path_to_model PATH_TO_MODEL\n",
      "                        Required. Path to an .xml/.onnx file with a trained\n",
      "                        model or to a .blob file with a trained compiled\n",
      "                        model.\n",
      "                        \n",
      "  -d TARGET_DEVICE, --target_device TARGET_DEVICE\n",
      "                        Optional. Specify a target device to infer on (the\n",
      "                        list of available devices is shown below). Default\n",
      "                        value is CPU. Use '-d HETERO:<comma separated devices\n",
      "                        list>' format to specify HETERO plugin. Use '-d\n",
      "                        MULTI:<comma separated devices list>' format to\n",
      "                        specify MULTI plugin. The application looks for a\n",
      "                        suitable plugin for the specified device.\n",
      "                        \n",
      "  -hint {throughput,tput,cumulative_throughput,ctput,latency,none}, --perf_hint {throughput,tput,cumulative_throughput,ctput,latency,none}\n",
      "                        Optional. Performance hint (latency or throughput or\n",
      "                        cumulative_throughput or none). Performance hint\n",
      "                        allows the OpenVINO device to select the right model-\n",
      "                        specific settings. 'throughput': device performance\n",
      "                        mode will be set to THROUGHPUT.\n",
      "                        'cumulative_throughput': device performance mode will\n",
      "                        be set to CUMULATIVE_THROUGHPUT. 'latency': device\n",
      "                        performance mode will be set to LATENCY. 'none': no\n",
      "                        device performance mode will be set. Using explicit\n",
      "                        'nstreams' or other device-specific options, please\n",
      "                        set hint to 'none'\n",
      "                        \n",
      "  -niter NUMBER_ITERATIONS, --number_iterations NUMBER_ITERATIONS\n",
      "                        Optional. Number of iterations. If not specified, the\n",
      "                        number of iterations is calculated depending on a\n",
      "                        device.\n",
      "                        \n",
      "  -t TIME, --time TIME  Optional. Time in seconds to execute topology.\n",
      "                        \n",
      "  -api {sync,async}, --api_type {sync,async}\n",
      "                        Optional. Enable using sync/async API. Default value\n",
      "                        is async.\n",
      "                        \n",
      "  -json_stats [JSON_STATS], --json_stats [JSON_STATS]\n",
      "                        Optional. Enables JSON-based statistics output (by\n",
      "                        default reporting system will use CSV format). Should\n",
      "                        be used together with -report_folder option.\n",
      "                        \n",
      "\n",
      "Input shapes:\n",
      "  -b BATCH_SIZE, --batch_size BATCH_SIZE\n",
      "                        Optional. Batch size value. If not specified, the\n",
      "                        batch size value is determined from Intermediate\n",
      "                        Representation\n",
      "                        \n",
      "  -shape SHAPE          Optional. Set shape for input. For example,\n",
      "                        \"input1[1,3,224,224],input2[1,4]\" or \"[1,3,224,224]\"\n",
      "                        in case of one input size. This parameter affect model\n",
      "                        Parameter shape, can be dynamic. For dynamic dimesions\n",
      "                        use symbol `?`, `-1` or range `low.. up`.\n",
      "                        \n",
      "  -data_shape DATA_SHAPE\n",
      "                        Optional. Optional if model shapes are all static\n",
      "                        (original ones or set by -shape).Required if at least\n",
      "                        one input shape is dynamic and input images are not\n",
      "                        provided.Set shape for input tensors. For example,\n",
      "                        \"input1[1,3,224,224][1,3,448,448],input2[1,4][1,8]\" or\n",
      "                        \"[1,3,224,224][1,3,448,448] in case of one input size.\n",
      "                        \n",
      "  -layout LAYOUT        Optional. Prompts how model layouts should be treated\n",
      "                        by application. For example, \"input1[NCHW],input2[NC]\"\n",
      "                        or \"[NCHW]\" in case of one input size.\n",
      "                        \n",
      "\n",
      "Advanced options:\n",
      "  -extensions EXTENSIONS, --extensions EXTENSIONS\n",
      "                        Optional. Path or a comma-separated list of paths to\n",
      "                        libraries (.so or .dll) with extensions.\n",
      "                        \n",
      "  -c PATH_TO_CLDNN_CONFIG, --path_to_cldnn_config PATH_TO_CLDNN_CONFIG\n",
      "                        Optional. Required for GPU custom kernels. Absolute\n",
      "                        path to an .xml file with the kernels description.\n",
      "                        \n",
      "  -cdir CACHE_DIR, --cache_dir CACHE_DIR\n",
      "                        Optional. Enable model caching to specified directory\n",
      "                        \n",
      "  -lfile [LOAD_FROM_FILE], --load_from_file [LOAD_FROM_FILE]\n",
      "                        Optional. Loads model from file directly without\n",
      "                        read_model.\n",
      "                        \n",
      "  -nireq NUMBER_INFER_REQUESTS, --number_infer_requests NUMBER_INFER_REQUESTS\n",
      "                        Optional. Number of infer requests. Default value is\n",
      "                        determined automatically for device.\n",
      "                        \n",
      "  -nstreams NUMBER_STREAMS, --number_streams NUMBER_STREAMS\n",
      "                        Optional. Number of streams to use for inference on\n",
      "                        the CPU/GPU (for HETERO and MULTI device cases use\n",
      "                        format <device1>:<nstreams1>,<device2>:<nstreams2> or\n",
      "                        just <nstreams>). Default value is determined\n",
      "                        automatically for a device. Please note that although\n",
      "                        the automatic selection usually provides a reasonable\n",
      "                        performance, it still may be non - optimal for some\n",
      "                        cases, especially for very small models. Also, using\n",
      "                        nstreams>1 is inherently throughput-oriented option,\n",
      "                        while for the best-latency estimations the number of\n",
      "                        streams should be set to 1. See samples README for\n",
      "                        more details.\n",
      "                        \n",
      "  -inference_only [INFERENCE_ONLY], --inference_only [INFERENCE_ONLY]\n",
      "                        Optional. If true inputs filling only once before\n",
      "                        measurements (default for static models), else inputs\n",
      "                        filling is included into loop measurement (default for\n",
      "                        dynamic models)\n",
      "                        \n",
      "  -infer_precision INFER_PRECISION\n",
      "                        Optional. Specifies the inference precision. Example\n",
      "                        #1: '-infer_precision bf16'. Example #2:\n",
      "                        '-infer_precision CPU:bf16,GPU:f32'\n",
      "                        \n",
      "  -exec_graph_path EXEC_GRAPH_PATH, --exec_graph_path EXEC_GRAPH_PATH\n",
      "                        Optional. Path to a file where to store executable\n",
      "                        graph information serialized.\n",
      "                        \n",
      "\n",
      "Preprocessing options:\n",
      "  -ip {bool,f16,f32,f64,i8,i16,i32,i64,u8,u16,u32,u64}, --input_precision {bool,f16,f32,f64,i8,i16,i32,i64,u8,u16,u32,u64}\n",
      "                        Optional. Specifies precision for all input layers of\n",
      "                        the model.\n",
      "                        \n",
      "  -op {bool,f16,f32,f64,i8,i16,i32,i64,u8,u16,u32,u64}, --output_precision {bool,f16,f32,f64,i8,i16,i32,i64,u8,u16,u32,u64}\n",
      "                        Optional. Specifies precision for all output layers of\n",
      "                        the model.\n",
      "                        \n",
      "  -iop INPUT_OUTPUT_PRECISION, --input_output_precision INPUT_OUTPUT_PRECISION\n",
      "                        Optional. Specifies precision for input and output\n",
      "                        layers by name. Example: -iop \"input:f16, output:f16\".\n",
      "                        Notice that quotes are required. Overwrites precision\n",
      "                        from ip and op options for specified layers.\n",
      "                        \n",
      "  --mean_values [R,G,B]\n",
      "                        Optional. Mean values to be used for the input image\n",
      "                        per channel. Values to be provided in the [R,G,B]\n",
      "                        format. Can be defined for desired input of the model,\n",
      "                        for example: \"--mean_values\n",
      "                        data[255,255,255],info[255,255,255]\". The exact\n",
      "                        meaning and order of channels depend on how the\n",
      "                        original model was trained. Applying the values\n",
      "                        affects performance and may cause type conversion\n",
      "                        \n",
      "  --scale_values [R,G,B]\n",
      "                        Optional. Scale values to be used for the input image\n",
      "                        per channel. Values are provided in the [R,G,B]\n",
      "                        format. Can be defined for desired input of the model,\n",
      "                        for example: \"--scale_values\n",
      "                        data[255,255,255],info[255,255,255]\". The exact\n",
      "                        meaning and order of channels depend on how the\n",
      "                        original model was trained. If both --mean_values and\n",
      "                        --scale_values are specified, the mean is subtracted\n",
      "                        first and then scale is applied regardless of the\n",
      "                        order of options in command line. Applying the values\n",
      "                        affects performance and may cause type conversion\n",
      "                        \n",
      "\n",
      "Device-specific performance options:\n",
      "  -nthreads NUMBER_THREADS, --number_threads NUMBER_THREADS\n",
      "                        Number of threads to use for inference on the CPU, GNA\n",
      "                        (including HETERO and MULTI cases).\n",
      "                        \n",
      "  -pin {YES,NO,NUMA,HYBRID_AWARE}, --infer_threads_pinning {YES,NO,NUMA,HYBRID_AWARE}\n",
      "                        Optional. Enable threads->cores ('YES' which is\n",
      "                        OpenVINO runtime's default for conventional CPUs),\n",
      "                        threads->(NUMA)nodes ('NUMA'), threads->appropriate\n",
      "                        core types ('HYBRID_AWARE', which is OpenVINO\n",
      "                        runtime's default for Hybrid CPUs) or completely\n",
      "                        disable ('NO') CPU threads pinning for CPU-involved\n",
      "                        inference.\n",
      "                        \n",
      "\n",
      "Statistics dumping options:\n",
      "  -latency_percentile LATENCY_PERCENTILE, --latency_percentile LATENCY_PERCENTILE\n",
      "                        Optional. Defines the percentile to be reported in\n",
      "                        latency metric. The valid range is [1, 100]. The\n",
      "                        default value is 50 (median).\n",
      "                        \n",
      "  -report_type {no_counters,average_counters,detailed_counters}, --report_type {no_counters,average_counters,detailed_counters}\n",
      "                        Optional. Enable collecting statistics report.\n",
      "                        \"no_counters\" report contains configuration options\n",
      "                        specified, resulting FPS and latency.\n",
      "                        \"average_counters\" report extends \"no_counters\" report\n",
      "                        and additionally includes average PM counters values\n",
      "                        for each layer from the model. \"detailed_counters\"\n",
      "                        report extends \"average_counters\" report and\n",
      "                        additionally includes per-layer PM counters and\n",
      "                        latency for each executed infer request.\n",
      "                        \n",
      "  -report_folder REPORT_FOLDER, --report_folder REPORT_FOLDER\n",
      "                        Optional. Path to a folder where statistics report is\n",
      "                        stored.\n",
      "                        \n",
      "  -pc [PERF_COUNTS], --perf_counts [PERF_COUNTS]\n",
      "                        Optional. Report performance counters.\n",
      "                        \n",
      "  -pcsort {no_sort,sort,simple_sort}, --perf_counts_sort {no_sort,sort,simple_sort}\n",
      "                        Optional. Report performance counters and analysis the\n",
      "                        sort hotpoint opts. sort: Analysis opts time cost,\n",
      "                        print by hotpoint order no_sort: Analysis opts time\n",
      "                        cost, print by normal order simple_sort: Analysis opts\n",
      "                        time cost, only print EXECUTED opts by normal order\n",
      "                        \n",
      "  -pcseq [PCSEQ], --pcseq [PCSEQ]\n",
      "                        Optional. Report latencies for each shape in\n",
      "                        -data_shape sequence.\n",
      "                        \n",
      "  -dump_config DUMP_CONFIG\n",
      "                        Optional. Path to JSON file to dump OpenVINO\n",
      "                        parameters, which were set by application.\n",
      "                        \n",
      "  -load_config LOAD_CONFIG\n",
      "                        Optional. Path to JSON file to load custom OpenVINO parameters.\n",
      "                        Please note, command line parameters have higher priority then parameters from configuration file.\n",
      "                        Example 1: a simple JSON file for HW device with primary properties.\n",
      "                                     {\n",
      "                                        \"CPU\": {\"NUM_STREAMS\": \"3\", \"PERF_COUNT\": \"NO\"}\n",
      "                                     }\n",
      "                        Example 2: a simple JSON file for meta device(AUTO/MULTI) with HW device properties.\n",
      "                                     {\n",
      "                                        \"AUTO\": {\n",
      "                                             \"PERFORMANCE_HINT\": \"THROUGHPUT\",\n",
      "                                             \"PERF_COUNT\": \"NO\",\n",
      "                                             \"DEVICE_PROPERTIES\": \"{CPU:{INFERENCE_PRECISION_HINT:f32,NUM_STREAMS:3},GPU:{INFERENCE_PRECISION_HINT:f32,NUM_STREAMS:5}}\"\n",
      "                                        }\n",
      "                                     }\n",
      "\n",
      "Available target devices:   CPU\n"
     ]
    }
   ],
   "source": [
    "!benchmark_app --help"
   ]
  },
  {
   "cell_type": "code",
   "execution_count": 70,
   "id": "de09e7b9",
   "metadata": {},
   "outputs": [
    {
     "name": "stdout",
     "output_type": "stream",
     "text": [
      "huggingface/tokenizers: The current process just got forked, after parallelism has already been used. Disabling parallelism to avoid deadlocks...\n",
      "To disable this warning, you can either:\n",
      "\t- Avoid using `tokenizers` before the fork if possible\n",
      "\t- Explicitly set the environment variable TOKENIZERS_PARALLELISM=(true | false)\n",
      "[Step 1/11] Parsing and validating input arguments\n",
      "[ INFO ] Parsing input parameters\n",
      "[Step 2/11] Loading OpenVINO Runtime\n",
      "[ INFO ] OpenVINO:\n",
      "[ INFO ] Build ................................. 2023.0.1-11005-fa1c41994f3-releases/2023/0\n",
      "[ INFO ] \n",
      "[ INFO ] Device info:\n",
      "[ INFO ] CPU\n",
      "[ INFO ] Build ................................. 2023.0.1-11005-fa1c41994f3-releases/2023/0\n",
      "[ INFO ] \n",
      "[ INFO ] \n",
      "[Step 3/11] Setting device configuration\n",
      "[Step 4/11] Reading model files\n",
      "[ INFO ] Loading model files\n",
      "[ INFO ] Read model took 53.62 ms\n",
      "[ INFO ] Original model I/O parameters:\n",
      "[ INFO ] Model inputs:\n",
      "[ INFO ]     input_ids (node: input_ids) : i64 / [...] / [?,?]\n",
      "[ INFO ]     attention_mask (node: attention_mask) : i64 / [...] / [?,?]\n",
      "[ INFO ] Model outputs:\n",
      "[ INFO ]     logits (node: logits) : f32 / [...] / [?,2]\n",
      "[Step 5/11] Resizing model to match image sizes and given batch\n",
      "[ WARNING ] Input 'attention_mask' has static shape. Provided data shapes for this input will be ignored.\n",
      "[ INFO ] Model batch size: 1\n",
      "[ INFO ] Reshaping model: 'input_ids': [1,256], 'attention_mask': [1,256]\n",
      "[ INFO ] Reshape model took 55.46 ms\n",
      "[Step 6/11] Configuring input of the model\n",
      "[ INFO ] Model inputs:\n",
      "[ INFO ]     input_ids (node: input_ids) : i64 / [...] / [1,256]\n",
      "[ INFO ]     attention_mask (node: attention_mask) : i64 / [...] / [1,256]\n",
      "[ INFO ] Model outputs:\n",
      "[ INFO ]     logits (node: logits) : f32 / [...] / [1,2]\n",
      "[Step 7/11] Loading the model to the device\n",
      "[ INFO ] Compile model took 1566.49 ms\n",
      "[Step 8/11] Querying optimal runtime parameters\n",
      "[ INFO ] Model:\n",
      "[ INFO ]   NETWORK_NAME: torch_jit\n",
      "[ INFO ]   OPTIMAL_NUMBER_OF_INFER_REQUESTS: 1\n",
      "[ INFO ]   NUM_STREAMS: 1\n",
      "[ INFO ]   AFFINITY: Affinity.CORE\n",
      "[ INFO ]   INFERENCE_NUM_THREADS: 8\n",
      "[ INFO ]   PERF_COUNT: False\n",
      "[ INFO ]   INFERENCE_PRECISION_HINT: <Type: 'float32'>\n",
      "[ INFO ]   PERFORMANCE_HINT: PerformanceMode.LATENCY\n",
      "[ INFO ]   EXECUTION_MODE_HINT: ExecutionMode.PERFORMANCE\n",
      "[ INFO ]   PERFORMANCE_HINT_NUM_REQUESTS: 0\n",
      "[ INFO ]   ENABLE_CPU_PINNING: True\n",
      "[ INFO ]   SCHEDULING_CORE_TYPE: SchedulingCoreType.ANY_CORE\n",
      "[ INFO ]   ENABLE_HYPER_THREADING: True\n",
      "[ INFO ]   EXECUTION_DEVICES: ['CPU']\n",
      "[Step 9/11] Creating infer requests and preparing input tensors\n",
      "[ WARNING ] No input files were given for input 'input_ids'!. This input will be filled with random values!\n",
      "[ WARNING ] No input files were given for input 'attention_mask'!. This input will be filled with random values!\n",
      "[ INFO ] Fill input 'input_ids' with random values \n",
      "[ INFO ] Fill input 'attention_mask' with random values \n",
      "[Step 10/11] Measuring performance (Start inference asynchronously, 1 inference requests, limits: 60000 ms duration)\n",
      "[ INFO ] Benchmarking in inference only mode (inputs filling are not included in measurement loop).\n",
      "[ INFO ] First inference took 22.41 ms\n",
      "[Step 11/11] Dumping statistics report\n",
      "[ INFO ] Execution Devices:['CPU']\n",
      "[ INFO ] Count:            2704 iterations\n",
      "[ INFO ] Duration:         60031.74 ms\n",
      "[ INFO ] Latency:\n",
      "[ INFO ]    Median:        22.05 ms\n",
      "[ INFO ]    Average:       22.12 ms\n",
      "[ INFO ]    Min:           21.24 ms\n",
      "[ INFO ]    Max:           27.13 ms\n",
      "[ INFO ] Throughput:   45.04 FPS\n"
     ]
    }
   ],
   "source": [
    "!benchmark_app \\\n",
    "    --path_to_model ptq_model/openvino_model.xml \\\n",
    "    -hint latency \\\n",
    "    -shape \"attention_mask[1,256],input_ids[1,256]\" \\\n",
    "    -data_shape \"attention_mask[1,256],ianput_ids[1,256]\""
   ]
  },
  {
   "cell_type": "code",
   "execution_count": 71,
   "id": "ccb8a7ac",
   "metadata": {},
   "outputs": [
    {
     "name": "stdout",
     "output_type": "stream",
     "text": [
      "huggingface/tokenizers: The current process just got forked, after parallelism has already been used. Disabling parallelism to avoid deadlocks...\n",
      "To disable this warning, you can either:\n",
      "\t- Avoid using `tokenizers` before the fork if possible\n",
      "\t- Explicitly set the environment variable TOKENIZERS_PARALLELISM=(true | false)\n",
      "[Step 1/11] Parsing and validating input arguments\n",
      "[ INFO ] Parsing input parameters\n",
      "[Step 2/11] Loading OpenVINO Runtime\n",
      "[ INFO ] OpenVINO:\n",
      "[ INFO ] Build ................................. 2023.0.1-11005-fa1c41994f3-releases/2023/0\n",
      "[ INFO ] \n",
      "[ INFO ] Device info:\n",
      "[ INFO ] CPU\n",
      "[ INFO ] Build ................................. 2023.0.1-11005-fa1c41994f3-releases/2023/0\n",
      "[ INFO ] \n",
      "[ INFO ] \n",
      "[Step 3/11] Setting device configuration\n",
      "[Step 4/11] Reading model files\n",
      "[ INFO ] Loading model files\n",
      "[ INFO ] Read model took 50.27 ms\n",
      "[ INFO ] Original model I/O parameters:\n",
      "[ INFO ] Model inputs:\n",
      "[ INFO ]     input_ids (node: input_ids) : i64 / [...] / [?,?]\n",
      "[ INFO ]     attention_mask (node: attention_mask) : i64 / [...] / [?,?]\n",
      "[ INFO ] Model outputs:\n",
      "[ INFO ]     logits (node: logits) : f32 / [...] / [?,2]\n",
      "[Step 5/11] Resizing model to match image sizes and given batch\n",
      "[ WARNING ] Input 'attention_mask' has static shape. Provided data shapes for this input will be ignored.\n",
      "[ INFO ] Model batch size: 1\n",
      "[ INFO ] Reshaping model: 'input_ids': [1,256], 'attention_mask': [1,256]\n",
      "[ INFO ] Reshape model took 45.07 ms\n",
      "[Step 6/11] Configuring input of the model\n",
      "[ INFO ] Model inputs:\n",
      "[ INFO ]     input_ids (node: input_ids) : i64 / [...] / [1,256]\n",
      "[ INFO ]     attention_mask (node: attention_mask) : i64 / [...] / [1,256]\n",
      "[ INFO ] Model outputs:\n",
      "[ INFO ]     logits (node: logits) : f32 / [...] / [1,2]\n",
      "[Step 7/11] Loading the model to the device\n",
      "[ INFO ] Compile model took 1396.50 ms\n",
      "[Step 8/11] Querying optimal runtime parameters\n",
      "[ INFO ] Model:\n",
      "[ INFO ]   NETWORK_NAME: torch_jit\n",
      "[ INFO ]   OPTIMAL_NUMBER_OF_INFER_REQUESTS: 4\n",
      "[ INFO ]   NUM_STREAMS: 4\n",
      "[ INFO ]   AFFINITY: Affinity.CORE\n",
      "[ INFO ]   INFERENCE_NUM_THREADS: 16\n",
      "[ INFO ]   PERF_COUNT: False\n",
      "[ INFO ]   INFERENCE_PRECISION_HINT: <Type: 'float32'>\n",
      "[ INFO ]   PERFORMANCE_HINT: PerformanceMode.THROUGHPUT\n",
      "[ INFO ]   EXECUTION_MODE_HINT: ExecutionMode.PERFORMANCE\n",
      "[ INFO ]   PERFORMANCE_HINT_NUM_REQUESTS: 0\n",
      "[ INFO ]   ENABLE_CPU_PINNING: True\n",
      "[ INFO ]   SCHEDULING_CORE_TYPE: SchedulingCoreType.ANY_CORE\n",
      "[ INFO ]   ENABLE_HYPER_THREADING: True\n",
      "[ INFO ]   EXECUTION_DEVICES: ['CPU']\n",
      "[Step 9/11] Creating infer requests and preparing input tensors\n",
      "[ WARNING ] No input files were given for input 'input_ids'!. This input will be filled with random values!\n",
      "[ WARNING ] No input files were given for input 'attention_mask'!. This input will be filled with random values!\n",
      "[ INFO ] Fill input 'input_ids' with random values \n",
      "[ INFO ] Fill input 'attention_mask' with random values \n",
      "[Step 10/11] Measuring performance (Start inference asynchronously, 4 inference requests, limits: 60000 ms duration)\n",
      "[ INFO ] Benchmarking in inference only mode (inputs filling are not included in measurement loop).\n",
      "[ INFO ] First inference took 36.26 ms\n",
      "[Step 11/11] Dumping statistics report\n",
      "[ INFO ] Execution Devices:['CPU']\n",
      "[ INFO ] Count:            4016 iterations\n",
      "[ INFO ] Duration:         60073.21 ms\n",
      "[ INFO ] Latency:\n",
      "[ INFO ]    Median:        59.71 ms\n",
      "[ INFO ]    Average:       59.69 ms\n",
      "[ INFO ]    Min:           36.21 ms\n",
      "[ INFO ]    Max:           78.46 ms\n",
      "[ INFO ] Throughput:   66.85 FPS\n"
     ]
    }
   ],
   "source": [
    "!benchmark_app \\\n",
    "    --path_to_model ptq_model/openvino_model.xml \\\n",
    "    -hint tput \\\n",
    "    -shape \"attention_mask[1,256],input_ids[1,256]\" \\\n",
    "    -data_shape \"attention_mask[1,256],ianput_ids[1,256]\""
   ]
  },
  {
   "cell_type": "code",
   "execution_count": 29,
   "id": "c96bc469",
   "metadata": {},
   "outputs": [
    {
     "name": "stderr",
     "output_type": "stream",
     "text": [
      "Compiling the model...\n",
      "Compiling the model...\n"
     ]
    }
   ],
   "source": [
    "ov_model_int8.reshape(1,256)\n",
    "ov_model_fp32.reshape(1,256)\n",
    "ov_model_int8.compile()\n",
    "ov_model_fp32.compile()"
   ]
  },
  {
   "cell_type": "code",
   "execution_count": 32,
   "id": "ff7f9c9b",
   "metadata": {},
   "outputs": [
    {
     "name": "stdout",
     "output_type": "stream",
     "text": [
      "items/sec for: 20.41257934771766\n"
     ]
    }
   ],
   "source": [
    "import time\n",
    "iterations = 100\n",
    "\n",
    "start = time.perf_counter()\n",
    "for _ in range(iterations):\n",
    "    ov_model_fp32(**inputs)\n",
    "end = time.perf_counter()\n",
    "\n",
    "print(f\"items/sec for: {iterations / (end-start)}\")"
   ]
  },
  {
   "cell_type": "code",
   "execution_count": 33,
   "id": "94fb5d33",
   "metadata": {},
   "outputs": [
    {
     "name": "stdout",
     "output_type": "stream",
     "text": [
      "items/sec for: 42.75287537958746\n"
     ]
    }
   ],
   "source": [
    "import time\n",
    "iterations = 100\n",
    "\n",
    "start = time.perf_counter()\n",
    "for _ in range(iterations):\n",
    "    ov_model_int8(**inputs)\n",
    "end = time.perf_counter()\n",
    "\n",
    "print(f\"items/sec for: {iterations / (end-start)}\")"
   ]
  },
  {
   "cell_type": "markdown",
   "id": "bdc45f85",
   "metadata": {},
   "source": [
    "#### OV HUB MODEL"
   ]
  },
  {
   "cell_type": "code",
   "execution_count": 44,
   "id": "4ec053e5",
   "metadata": {},
   "outputs": [
    {
     "name": "stderr",
     "output_type": "stream",
     "text": [
      "Compiling the model...\n"
     ]
    }
   ],
   "source": [
    "ov_model_hub_id = \"OpenVINO/bert-base-uncased-sst2-int8-unstructured80\"\n",
    "ov_model_hub = OVModelForSequenceClassification.from_pretrained(ov_model_hub_id, export=False)\n",
    "tokenizer_ov_hub = AutoTokenizer.from_pretrained(ov_model_hub_id)"
   ]
  },
  {
   "cell_type": "code",
   "execution_count": 47,
   "id": "2a18366c",
   "metadata": {},
   "outputs": [],
   "source": [
    "sentence = \"He is a dreadful magician\"\n",
    "inputs_ov_hub = tokenizer_ov_hub(sentence, max_length=256, padding=\"max_length\", truncation=True, return_tensors=\"np\")"
   ]
  },
  {
   "cell_type": "code",
   "execution_count": 50,
   "id": "66008985",
   "metadata": {},
   "outputs": [
    {
     "name": "stdout",
     "output_type": "stream",
     "text": [
      "items/sec for: 41.76662096029358\n"
     ]
    }
   ],
   "source": [
    "import time\n",
    "iterations = 100\n",
    "\n",
    "start = time.perf_counter()\n",
    "for _ in range(iterations):\n",
    "    ov_model_hub(**inputs_ov_hub)\n",
    "end = time.perf_counter()\n",
    "\n",
    "print(f\"items/sec for: {iterations / (end-start)}\")"
   ]
  },
  {
   "cell_type": "code",
   "execution_count": 52,
   "id": "8efe626c",
   "metadata": {},
   "outputs": [
    {
     "name": "stderr",
     "output_type": "stream",
     "text": [
      "Compiling the model...\n"
     ]
    }
   ],
   "source": [
    "ov_model_hub.reshape(1,256)\n",
    "ov_model_hub.compile()"
   ]
  },
  {
   "cell_type": "code",
   "execution_count": 53,
   "id": "9860722b",
   "metadata": {},
   "outputs": [
    {
     "name": "stdout",
     "output_type": "stream",
     "text": [
      "items/sec for: 43.87668884660598\n"
     ]
    }
   ],
   "source": [
    "import time\n",
    "iterations = 100\n",
    "\n",
    "start = time.perf_counter()\n",
    "for _ in range(iterations):\n",
    "    ov_model_hub(**inputs_ov_hub)\n",
    "end = time.perf_counter()\n",
    "\n",
    "print(f\"items/sec for: {iterations / (end-start)}\")"
   ]
  },
  {
   "cell_type": "markdown",
   "id": "5537d847",
   "metadata": {},
   "source": [
    "## DeepSparse Baseline"
   ]
  },
  {
   "cell_type": "code",
   "execution_count": 35,
   "id": "f65b54d8",
   "metadata": {
    "scrolled": true
   },
   "outputs": [
    {
     "name": "stdout",
     "output_type": "stream",
     "text": [
      "huggingface/tokenizers: The current process just got forked, after parallelism has already been used. Disabling parallelism to avoid deadlocks...\n",
      "To disable this warning, you can either:\n",
      "\t- Avoid using `tokenizers` before the fork if possible\n",
      "\t- Explicitly set the environment variable TOKENIZERS_PARALLELISM=(true | false)\n",
      "Collecting deepsparse\n",
      "  Using cached deepsparse-1.5.2-cp39-cp39-manylinux_2_17_x86_64.manylinux2014_x86_64.whl (41.9 MB)\n",
      "Collecting pydantic<2.0.0,>=1.8.2\n",
      "  Using cached pydantic-1.10.11-cp39-cp39-manylinux_2_17_x86_64.manylinux2014_x86_64.whl (3.2 MB)\n",
      "Collecting protobuf<=3.20.1,>=3.12.2\n",
      "  Using cached protobuf-3.20.1-cp39-cp39-manylinux_2_5_x86_64.manylinux1_x86_64.whl (1.0 MB)\n",
      "Requirement already satisfied: numpy>=1.16.3 in ./env/lib/python3.9/site-packages (from deepsparse) (1.23.5)\n",
      "Requirement already satisfied: onnx<1.15.0,>=1.5.0 in ./env/lib/python3.9/site-packages (from deepsparse) (1.14.0)\n",
      "Collecting sparsezoo~=1.5.0\n",
      "  Using cached sparsezoo-1.5.2-py3-none-any.whl (131 kB)\n",
      "Requirement already satisfied: tqdm>=4.0.0 in ./env/lib/python3.9/site-packages (from deepsparse) (4.65.0)\n",
      "Requirement already satisfied: requests>=2.0.0 in ./env/lib/python3.9/site-packages (from deepsparse) (2.31.0)\n",
      "Collecting click!=8.0.0,>=7.1.2\n",
      "  Using cached click-8.1.4-py3-none-any.whl (98 kB)\n",
      "Requirement already satisfied: typing-extensions>=3.6.2.1 in ./env/lib/python3.9/site-packages (from onnx<1.15.0,>=1.5.0->deepsparse) (4.7.1)\n",
      "Collecting onnx<1.15.0,>=1.5.0\n",
      "  Using cached onnx-1.14.0-cp39-cp39-manylinux_2_17_x86_64.manylinux2014_x86_64.whl (14.6 MB)\n",
      "  Using cached onnx-1.13.1-cp39-cp39-manylinux_2_17_x86_64.manylinux2014_x86_64.whl (13.5 MB)\n",
      "  Using cached onnx-1.13.0-cp39-cp39-manylinux_2_17_x86_64.manylinux2014_x86_64.whl (13.5 MB)\n",
      "  Using cached onnx-1.12.0-cp39-cp39-manylinux_2_17_x86_64.manylinux2014_x86_64.whl (13.1 MB)\n",
      "Requirement already satisfied: certifi>=2017.4.17 in ./env/lib/python3.9/site-packages (from requests>=2.0.0->deepsparse) (2023.5.7)\n",
      "Requirement already satisfied: urllib3<3,>=1.21.1 in ./env/lib/python3.9/site-packages (from requests>=2.0.0->deepsparse) (2.0.3)\n",
      "Requirement already satisfied: idna<4,>=2.5 in ./env/lib/python3.9/site-packages (from requests>=2.0.0->deepsparse) (3.4)\n",
      "Requirement already satisfied: charset-normalizer<4,>=2 in ./env/lib/python3.9/site-packages (from requests>=2.0.0->deepsparse) (3.2.0)\n",
      "Collecting numpy>=1.16.3\n",
      "  Using cached numpy-1.21.6-cp39-cp39-manylinux_2_12_x86_64.manylinux2010_x86_64.whl (15.7 MB)\n",
      "Collecting geocoder>=1.38.0\n",
      "  Using cached geocoder-1.38.1-py2.py3-none-any.whl (98 kB)\n",
      "Requirement already satisfied: pandas>1.3 in ./env/lib/python3.9/site-packages (from sparsezoo~=1.5.0->deepsparse) (2.0.3)\n",
      "Collecting py-machineid>=0.3.0\n",
      "  Using cached py_machineid-0.4.1-py3-none-any.whl (4.2 kB)\n",
      "Requirement already satisfied: pyyaml>=5.1.0 in ./env/lib/python3.9/site-packages (from sparsezoo~=1.5.0->deepsparse) (6.0)\n",
      "Collecting ratelim\n",
      "  Using cached ratelim-0.1.6-py2.py3-none-any.whl (4.0 kB)\n",
      "Requirement already satisfied: future in ./env/lib/python3.9/site-packages (from geocoder>=1.38.0->sparsezoo~=1.5.0->deepsparse) (0.18.3)\n",
      "Requirement already satisfied: six in ./env/lib/python3.9/site-packages (from geocoder>=1.38.0->sparsezoo~=1.5.0->deepsparse) (1.16.0)\n",
      "Requirement already satisfied: tzdata>=2022.1 in ./env/lib/python3.9/site-packages (from pandas>1.3->sparsezoo~=1.5.0->deepsparse) (2023.3)\n",
      "Requirement already satisfied: pytz>=2020.1 in ./env/lib/python3.9/site-packages (from pandas>1.3->sparsezoo~=1.5.0->deepsparse) (2023.3)\n",
      "Requirement already satisfied: python-dateutil>=2.8.2 in ./env/lib/python3.9/site-packages (from pandas>1.3->sparsezoo~=1.5.0->deepsparse) (2.8.2)\n",
      "Collecting winregistry\n",
      "  Using cached winregistry-1.1.1-py3-none-any.whl (5.8 kB)\n",
      "Requirement already satisfied: decorator in ./env/lib/python3.9/site-packages (from ratelim->geocoder>=1.38.0->sparsezoo~=1.5.0->deepsparse) (5.1.1)\n",
      "Installing collected packages: winregistry, ratelim, protobuf, numpy, click, pydantic, py-machineid, onnx, geocoder, sparsezoo, deepsparse\n",
      "  Attempting uninstall: protobuf\n",
      "    Found existing installation: protobuf 3.20.3\n",
      "    Uninstalling protobuf-3.20.3:\n",
      "      Successfully uninstalled protobuf-3.20.3\n",
      "  Attempting uninstall: numpy\n",
      "    Found existing installation: numpy 1.23.5\n",
      "    Uninstalling numpy-1.23.5:\n",
      "      Successfully uninstalled numpy-1.23.5\n",
      "  Attempting uninstall: onnx\n",
      "    Found existing installation: onnx 1.14.0\n",
      "    Uninstalling onnx-1.14.0:\n",
      "      Successfully uninstalled onnx-1.14.0\n",
      "Successfully installed click-8.1.4 deepsparse-1.5.2 geocoder-1.38.1 numpy-1.21.6 onnx-1.12.0 protobuf-3.20.1 py-machineid-0.4.1 pydantic-1.10.11 ratelim-0.1.6 sparsezoo-1.5.2 winregistry-1.1.1\n"
     ]
    }
   ],
   "source": [
    "!pip install deepsparse"
   ]
  },
  {
   "cell_type": "code",
   "execution_count": 36,
   "id": "dbb7cbe3",
   "metadata": {},
   "outputs": [
    {
     "name": "stdout",
     "output_type": "stream",
     "text": [
      "huggingface/tokenizers: The current process just got forked, after parallelism has already been used. Disabling parallelism to avoid deadlocks...\n",
      "To disable this warning, you can either:\n",
      "\t- Avoid using `tokenizers` before the fork if possible\n",
      "\t- Explicitly set the environment variable TOKENIZERS_PARALLELISM=(true | false)\n"
     ]
    }
   ],
   "source": [
    "from deepsparse import Engine"
   ]
  },
  {
   "cell_type": "code",
   "execution_count": 38,
   "id": "2c2e1764",
   "metadata": {},
   "outputs": [],
   "source": [
    "ds_model_base = Engine(\n",
    "    \"zoo:nlp/sentiment_analysis/oberta-base/pytorch/huggingface/sst2/base-none\",\n",
    "    batch_size=1,\n",
    "    input_shapes=[[1,256], [1,256]]\n",
    ")"
   ]
  },
  {
   "cell_type": "code",
   "execution_count": 40,
   "id": "9be68bfc",
   "metadata": {},
   "outputs": [],
   "source": [
    "ds_model_quant = Engine(\n",
    "    \"zoo:nlp/sentiment_analysis/oberta-base/pytorch/huggingface/sst2/base_quant-none\",\n",
    "    batch_size=1,\n",
    "    input_shapes=[[1,256], [1,256]]\n",
    ")"
   ]
  },
  {
   "cell_type": "code",
   "execution_count": 39,
   "id": "dde269ac",
   "metadata": {},
   "outputs": [],
   "source": [
    "ds_model_pruned_quant = Engine(\n",
    "    \"zoo:nlp/sentiment_analysis/oberta-base/pytorch/huggingface/sst2/pruned90_quant-none\",\n",
    "    batch_size=1,\n",
    "    input_shapes=[[1,256], [1,256]]\n",
    ")"
   ]
  },
  {
   "cell_type": "code",
   "execution_count": 41,
   "id": "2052479d",
   "metadata": {},
   "outputs": [],
   "source": [
    "ds_models = {\n",
    "    \"base\": ds_model_base,\n",
    "    \"quant\": ds_model_quant,\n",
    "    \"pruned-quant\": ds_model_pruned_quant\n",
    "}"
   ]
  },
  {
   "cell_type": "code",
   "execution_count": 46,
   "id": "7040d243",
   "metadata": {},
   "outputs": [
    {
     "name": "stdout",
     "output_type": "stream",
     "text": [
      "items/sec for base: 18.29179157897903\n",
      "items/sec for quant: 55.511120014202206\n",
      "items/sec for pruned-quant: 75.53615177183471\n"
     ]
    }
   ],
   "source": [
    "import time\n",
    "iterations = 100\n",
    "\n",
    "for model_type in ds_models:\n",
    "    ds_model = ds_models[model_type]\n",
    "    ds_input = [inputs[\"input_ids\"], inputs[\"attention_mask\"]]\n",
    "\n",
    "    start = time.perf_counter()\n",
    "    for _ in range(iterations):\n",
    "        ds_model(ds_input)\n",
    "    end = time.perf_counter()\n",
    "\n",
    "    print(f\"items/sec for {model_type}: {iterations / (end-start)}\")"
   ]
  },
  {
   "cell_type": "code",
   "execution_count": 72,
   "id": "e88328ec",
   "metadata": {},
   "outputs": [
    {
     "name": "stdout",
     "output_type": "stream",
     "text": [
      "huggingface/tokenizers: The current process just got forked, after parallelism has already been used. Disabling parallelism to avoid deadlocks...\n",
      "To disable this warning, you can either:\n",
      "\t- Avoid using `tokenizers` before the fork if possible\n",
      "\t- Explicitly set the environment variable TOKENIZERS_PARALLELISM=(true | false)\n",
      "2023-07-07 21:56:25 deepsparse.benchmark.benchmark_model INFO     Thread pinning to cores enabled\n",
      "2023-07-07 21:56:26 deepsparse.benchmark.benchmark_model INFO     num_streams reduced to 1 for singlestream scenario.\n",
      "INFO:deepsparse.benchmark.benchmark_model:num_streams reduced to 1 for singlestream scenario.\n",
      "DeepSparse, Copyright 2021-present / Neuralmagic, Inc. version: 1.5.2 COMMUNITY | (93c38382) (release) (optimized) (system=avx512_vnni, binary=avx512)\n",
      "2023-07-07 21:56:41 deepsparse.benchmark.benchmark_model INFO     deepsparse.engine.Engine:\n",
      "\tonnx_file_path: /home/robertgshaw/.cache/sparsezoo/d4496866-ceee-4ea3-936d-fe3bb1dae5cd/model.onnx\n",
      "\tbatch_size: 1\n",
      "\tnum_cores: 8\n",
      "\tnum_streams: 1\n",
      "\tscheduler: Scheduler.default\n",
      "\tfraction_of_supported_ops: 0.9844\n",
      "\tcpu_avx_type: avx512\n",
      "\tcpu_vnni: True\n",
      "INFO:deepsparse.benchmark.benchmark_model:deepsparse.engine.Engine:\n",
      "\tonnx_file_path: /home/robertgshaw/.cache/sparsezoo/d4496866-ceee-4ea3-936d-fe3bb1dae5cd/model.onnx\n",
      "\tbatch_size: 1\n",
      "\tnum_cores: 8\n",
      "\tnum_streams: 1\n",
      "\tscheduler: Scheduler.default\n",
      "\tfraction_of_supported_ops: 0.9844\n",
      "\tcpu_avx_type: avx512\n",
      "\tcpu_vnni: True\n",
      "2023-07-07 21:56:41 deepsparse.utils.onnx INFO     Generating input 'input_ids', type = int64, shape = [1, 256]\n",
      "INFO:deepsparse.utils.onnx:Generating input 'input_ids', type = int64, shape = [1, 256]\n",
      "2023-07-07 21:56:41 deepsparse.utils.onnx INFO     Generating input 'attention_mask', type = int64, shape = [1, 256]\n",
      "INFO:deepsparse.utils.onnx:Generating input 'attention_mask', type = int64, shape = [1, 256]\n",
      "2023-07-07 21:56:42 deepsparse.benchmark.benchmark_model INFO     Starting 'singlestream' performance measurements for 10 seconds\n",
      "INFO:deepsparse.benchmark.benchmark_model:Starting 'singlestream' performance measurements for 10 seconds\n",
      "Original Model Path: zoo:nlp/sentiment_analysis/oberta-base/pytorch/huggingface/sst2/pruned90_quant-none\n",
      "Batch Size: 1\n",
      "Scenario: sync\n",
      "Throughput (items/sec): 78.2551\n",
      "Latency Mean (ms/batch): 12.7704\n",
      "Latency Median (ms/batch): 12.6616\n",
      "Latency Std (ms/batch): 0.3899\n",
      "Iterations: 783\n"
     ]
    }
   ],
   "source": [
    "!deepsparse.benchmark zoo:nlp/sentiment_analysis/oberta-base/pytorch/huggingface/sst2/pruned90_quant-none -i [1,256] -nstreams 4"
   ]
  },
  {
   "cell_type": "code",
   "execution_count": null,
   "id": "afab915c",
   "metadata": {},
   "outputs": [],
   "source": []
  }
 ],
 "metadata": {
  "kernelspec": {
   "display_name": "Python 3 (ipykernel)",
   "language": "python",
   "name": "python3"
  },
  "language_info": {
   "codemirror_mode": {
    "name": "ipython",
    "version": 3
   },
   "file_extension": ".py",
   "mimetype": "text/x-python",
   "name": "python",
   "nbconvert_exporter": "python",
   "pygments_lexer": "ipython3",
   "version": "3.9.2"
  }
 },
 "nbformat": 4,
 "nbformat_minor": 5
}
